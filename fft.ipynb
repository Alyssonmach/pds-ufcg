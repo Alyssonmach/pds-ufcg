{
 "cells": [
  {
   "cell_type": "code",
   "execution_count": 3,
   "metadata": {},
   "outputs": [],
   "source": [
    "import numpy as np\n",
    "import matplotlib.pyplot as plt\n",
    "\n",
    "def my_fft(x):\n",
    "    \n",
    "    N = len(x)\n",
    "\n",
    "    if N == 1: return x\n",
    "\n",
    "    xe, xo = list(), list()\n",
    "    for i, value in enumerate(x):\n",
    "        if i % 2 != 0: xe.append(value)\n",
    "        else: xo.append(value)\n",
    "    \n",
    "    n = np.arange(N)\n",
    "    Wn = np.exp(-(1j) * (2 * np.pi / N) * n)\n",
    "\n",
    "    if len(xe) != len(xo):\n",
    "        print('N não é par!')\n",
    "        return\n",
    "    \n",
    "    X = np.concatenate([xe+Wn[:int(N/2)]*xo, xe+Wn[int(N/2):]*xo])\n",
    "    return X\n",
    "\n",
    "\n",
    "    "
   ]
  },
  {
   "cell_type": "code",
   "execution_count": 125,
   "metadata": {},
   "outputs": [],
   "source": [
    "def test(x):\n",
    "\n",
    "    N = len(x)\n",
    "\n",
    "    if N == 1: return x\n",
    "\n",
    "    xe, xo = list(), list()\n",
    "    for i, value in enumerate(x):\n",
    "        if i % 2 == False: xe.append(value)\n",
    "        else: xo.append(value)\n",
    "    \n",
    "    xe = test(xe)\n",
    "    xo = test(xo)\n",
    "    print(xe, xo)"
   ]
  },
  {
   "cell_type": "code",
   "execution_count": 126,
   "metadata": {},
   "outputs": [
    {
     "name": "stdout",
     "output_type": "stream",
     "text": [
      "[0] [4]\n",
      "[2] [6]\n",
      "None None\n",
      "[1] [5]\n",
      "[3] [7]\n",
      "None None\n",
      "None None\n"
     ]
    }
   ],
   "source": [
    "test([0,1,2,3,4,5,6,7])"
   ]
  },
  {
   "cell_type": "code",
   "execution_count": 135,
   "metadata": {},
   "outputs": [],
   "source": [
    "def my_fft(x):\n",
    "\n",
    "    N = len(x)\n",
    "\n",
    "    if N == 1: return x\n",
    "\n",
    "    xe, xo = list(), list()\n",
    "    for i, value in enumerate(x):\n",
    "        if i % 2 == False: xe.append(value)\n",
    "        else: xo.append(value)\n",
    "    \n",
    "    xe = my_fft(xe)\n",
    "    xo = my_fft(xo)\n",
    "\n",
    "    print(f'x = {x}, xe = {xe}, xo = {xo}, xo')\n",
    "\n",
    "    n = np.arange(N)\n",
    "    Wn = np.exp((-1j) * ((2 * np.pi) / N) * n)\n",
    "\n",
    "    first_sequence = xe + Wn[:int(N/2)] * xo\n",
    "    second_sequence = xe + Wn[int(N/2):] * xo\n",
    "    print(np.concatenate([first_sequence, second_sequence]))\n",
    "    return np.concatenate([first_sequence, second_sequence])"
   ]
  },
  {
   "cell_type": "code",
   "execution_count": 136,
   "metadata": {},
   "outputs": [
    {
     "name": "stdout",
     "output_type": "stream",
     "text": [
      "x = [0, 4], xe = [0], xo = [4], xo\n",
      "[ 4.+0.0000000e+00j -4.-4.8985872e-16j]\n",
      "x = [2, 6], xe = [2], xo = [6], xo\n",
      "[ 8.+0.00000000e+00j -4.-7.34788079e-16j]\n",
      "x = [0, 2, 4, 6], xe = [ 4.+0.0000000e+00j -4.-4.8985872e-16j], xo = [ 8.+0.00000000e+00j -4.-7.34788079e-16j], xo\n",
      "[12.+0.00000000e+00j -4.+4.00000000e+00j -4.-9.79717439e-16j\n",
      " -4.-4.00000000e+00j]\n",
      "x = [1, 5], xe = [1], xo = [5], xo\n",
      "[ 6.+0.000000e+00j -4.-6.123234e-16j]\n",
      "x = [3, 7], xe = [3], xo = [7], xo\n",
      "[10.+0.00000000e+00j -4.-8.57252759e-16j]\n",
      "x = [1, 3, 5, 7], xe = [ 6.+0.000000e+00j -4.-6.123234e-16j], xo = [10.+0.00000000e+00j -4.-8.57252759e-16j], xo\n",
      "[16.+0.0000000e+00j -4.+4.0000000e+00j -4.-1.2246468e-15j\n",
      " -4.-4.0000000e+00j]\n",
      "x = [0, 1, 2, 3, 4, 5, 6, 7], xe = [12.+0.00000000e+00j -4.+4.00000000e+00j -4.-9.79717439e-16j\n",
      " -4.-4.00000000e+00j], xo = [16.+0.0000000e+00j -4.+4.0000000e+00j -4.-1.2246468e-15j\n",
      " -4.-4.0000000e+00j], xo\n",
      "[28.+0.00000000e+00j -4.+9.65685425e+00j -4.+4.00000000e+00j\n",
      " -4.+1.65685425e+00j -4.-1.95943488e-15j -4.-1.65685425e+00j\n",
      " -4.-4.00000000e+00j -4.-9.65685425e+00j]\n"
     ]
    },
    {
     "data": {
      "text/plain": [
       "array([28.+0.00000000e+00j, -4.+9.65685425e+00j, -4.+4.00000000e+00j,\n",
       "       -4.+1.65685425e+00j, -4.-1.95943488e-15j, -4.-1.65685425e+00j,\n",
       "       -4.-4.00000000e+00j, -4.-9.65685425e+00j])"
      ]
     },
     "execution_count": 136,
     "metadata": {},
     "output_type": "execute_result"
    }
   ],
   "source": [
    "my_fft([0,1,2,3,4,5,6,7])"
   ]
  },
  {
   "cell_type": "code",
   "execution_count": 22,
   "metadata": {},
   "outputs": [],
   "source": [
    "def FFT(x):\n",
    "    \"\"\"\n",
    "    A recursive implementation of \n",
    "    the 1D Cooley-Tukey FFT, the \n",
    "    input should have a length of \n",
    "    power of 2. \n",
    "    \"\"\"\n",
    "    N = len(x)\n",
    "    \n",
    "    if N == 1:\n",
    "        return x\n",
    "    else:\n",
    "        X_even = FFT(x[::2])\n",
    "        X_odd = FFT(x[1::2])\n",
    "\n",
    "        print(X_even, X_odd, 'entrada')\n",
    "        \n",
    "        factor = \\\n",
    "          np.exp(-2j*np.pi*np.arange(N)/ N)\n",
    "        \n",
    "        X = np.concatenate(\\\n",
    "            [X_even+factor[:int(N/2)]*X_odd,\n",
    "             X_even+factor[int(N/2):]*X_odd])\n",
    "        \n",
    "        print(X, 'resultado')\n",
    "        return X "
   ]
  }
 ],
 "metadata": {
  "kernelspec": {
   "display_name": "base",
   "language": "python",
   "name": "python3"
  },
  "language_info": {
   "codemirror_mode": {
    "name": "ipython",
    "version": 3
   },
   "file_extension": ".py",
   "mimetype": "text/x-python",
   "name": "python",
   "nbconvert_exporter": "python",
   "pygments_lexer": "ipython3",
   "version": "3.8.17"
  }
 },
 "nbformat": 4,
 "nbformat_minor": 2
}
