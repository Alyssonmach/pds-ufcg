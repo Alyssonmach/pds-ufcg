{
 "cells": [
  {
   "cell_type": "markdown",
   "metadata": {},
   "source": [
    "## Implementação da *Fast Fourier Transform* em Python\n",
    "***\n",
    "\n",
    "Aluno: ```Alysson Machado de Oliveira Barbosa```"
   ]
  },
  {
   "cell_type": "code",
   "execution_count": 3,
   "metadata": {},
   "outputs": [],
   "source": [
    "# Importação dos pacotes utilitários\n",
    "import numpy as np\n",
    "import matplotlib.pyplot as plt"
   ]
  },
  {
   "cell_type": "code",
   "execution_count": 5,
   "metadata": {},
   "outputs": [],
   "source": [
    "def verify_power_2(x):\n",
    "    '''\n",
    "    Função que verifica se um número é potência de 2.\n",
    "\n",
    "    Inputs:\n",
    "        x (int) -> número a ser verificado.\n",
    "    \n",
    "    Returns:\n",
    "        flag_verify (bool) -> retorna True caso o número seja potência de 2, caso contrário, False.\n",
    "    '''\n",
    "\n",
    "    # Se o número for negativo, retorna False\n",
    "    if x <= 0:\n",
    "        return False\n",
    "    # Verifica se o número é divisível por 2\n",
    "    while x % 2 == 0:\n",
    "        x = x // 2\n",
    "\n",
    "    # Verifica se o resultado final é 1, o que indica que era uma potência de 2\n",
    "    flag_verify = x == 1\n",
    "    return flag_verify"
   ]
  },
  {
   "cell_type": "code",
   "execution_count": 6,
   "metadata": {},
   "outputs": [],
   "source": [
    "def my_fft(x, view_recursion = False):\n",
    "    '''\n",
    "    Função que calcula a FFT a partir de um sinal x(t).\n",
    "\n",
    "    Inputs:\n",
    "        x (list) -> lista contendo os valores numéricos do sinal.\n",
    "        view_recursion (bool) -> flag para mostrar na tela as etapas da recursão acontecendo.\n",
    "    \n",
    "    Returns:\n",
    "        fft (list) -> cálculo da FFT a partir do sinal x(t).\n",
    "    '''\n",
    "\n",
    "    # Obtém a dimensão do vetor de entrada\n",
    "    N = len(x)\n",
    "\n",
    "    # Verifica se o vetor de entrada é potência de 2\n",
    "    if not verify_power_2(N):  raise RuntimeError('O número não é potência de 2')\n",
    "\n",
    "    # Caso no processo interativo o tamanho do vetor for 1 (parada da recursão), retorna esse valor\n",
    "    if N == 1: return x\n",
    "\n",
    "    # Separa os elementos pares e ímpares da lista, para implementar o grafo de estrutura de borboleta da FFT\n",
    "    xe, xo = list(), list()\n",
    "    for i, value in enumerate(x):\n",
    "        if i % 2 == False: xe.append(value)\n",
    "        else: xo.append(value)\n",
    "    \n",
    "    # Implementa a recursão, semelhante ao processo ilustrado no grafo da estrutura de borboleta da FFT\n",
    "    xe = my_fft(xe, view_recursion)\n",
    "    xo = my_fft(xo, view_recursion)\n",
    "\n",
    "    # Visualizar as etapas da recursão acontecendo\n",
    "    # Dica: coloque o vetor [0,1,2,3,4,5,6,7] na entrada, fica mais fácil acompanhar os índices\n",
    "    if view_recursion:\n",
    "        print(f'---\\nx = {x}\\n xe = {xe}\\n xo = {xo}')\n",
    "\n",
    "    # Calcula o somatório da FFT separando os elementos em N/2 por simetria\n",
    "    n = np.arange(N)\n",
    "    Wn = np.exp((-1j) * ((2 * np.pi) / N) * n)\n",
    "\n",
    "    first_sequence = xe + Wn[:int(N/2)] * xo\n",
    "    second_sequence = xe + Wn[int(N/2):] * xo\n",
    "\n",
    "    actual_output = np.concatenate([first_sequence, second_sequence])\n",
    "\n",
    "    return actual_output"
   ]
  },
  {
   "cell_type": "code",
   "execution_count": 7,
   "metadata": {},
   "outputs": [
    {
     "name": "stdout",
     "output_type": "stream",
     "text": [
      "---\n",
      "x = [0, 0]\n",
      " xe = [0]\n",
      " xo = [0]\n",
      "---\n",
      "x = [1, 0]\n",
      " xe = [1]\n",
      " xo = [0]\n",
      "---\n",
      "x = [0, 1, 0, 0]\n",
      " xe = [0.+0.j 0.+0.j]\n",
      " xo = [1.+0.j 1.+0.j]\n",
      "---\n",
      "x = [0, 0]\n",
      " xe = [0]\n",
      " xo = [0]\n",
      "---\n",
      "x = [0, 0]\n",
      " xe = [0]\n",
      " xo = [0]\n",
      "---\n",
      "x = [0, 0, 0, 0]\n",
      " xe = [0.+0.j 0.+0.j]\n",
      " xo = [0.+0.j 0.+0.j]\n",
      "---\n",
      "x = [0, 0, 1, 0, 0, 0, 0, 0]\n",
      " xe = [ 1.0000000e+00+0.0000000e+00j  6.1232340e-17-1.0000000e+00j\n",
      " -1.0000000e+00-1.2246468e-16j -1.8369702e-16+1.0000000e+00j]\n",
      " xo = [0.+0.j 0.+0.j 0.+0.j 0.+0.j]\n"
     ]
    },
    {
     "data": {
      "text/plain": [
       "[<matplotlib.lines.Line2D at 0x23fa214a310>]"
      ]
     },
     "execution_count": 7,
     "metadata": {},
     "output_type": "execute_result"
    },
    {
     "data": {
      "image/png": "[encoded data removed]",
      "text/plain": [
       "<Figure size 640x480 with 1 Axes>"
      ]
     },
     "metadata": {},
     "output_type": "display_data"
    }
   ],
   "source": [
    "plt.plot(np.angle(my_fft([0,0,1,0,0,0,0,0], view_recursion = True)))"
   ]
  }
 ],
 "metadata": {
  "kernelspec": {
   "display_name": "base",
   "language": "python",
   "name": "python3"
  },
  "language_info": {
   "codemirror_mode": {
    "name": "ipython",
    "version": 3
   },
   "file_extension": ".py",
   "mimetype": "text/x-python",
   "name": "python",
   "nbconvert_exporter": "python",
   "pygments_lexer": "ipython3",
   "version": "3.8.17"
  }
 },
 "nbformat": 4,
 "nbformat_minor": 2
}
